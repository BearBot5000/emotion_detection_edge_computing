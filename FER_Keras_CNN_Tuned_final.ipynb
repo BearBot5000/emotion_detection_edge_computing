{
  "nbformat": 4,
  "nbformat_minor": 0,
  "metadata": {
    "colab": {
      "provenance": [],
      "gpuType": "T4"
    },
    "kernelspec": {
      "name": "python3",
      "display_name": "Python 3"
    },
    "language_info": {
      "name": "python"
    },
    "accelerator": "GPU"
  },
  "cells": [
    {
      "cell_type": "code",
      "source": [
        "import sys\n",
        "print(sys.version)"
      ],
      "metadata": {
        "colab": {
          "base_uri": "https://localhost:8080/"
        },
        "id": "d7gPeLdwtPy-",
        "outputId": "930714e7-5347-4f22-b6e3-47e9fe2509f9"
      },
      "execution_count": null,
      "outputs": [
        {
          "output_type": "stream",
          "name": "stdout",
          "text": [
            "3.10.12 (main, Nov 20 2023, 15:14:05) [GCC 11.4.0]\n"
          ]
        }
      ]
    },
    {
      "cell_type": "code",
      "source": [
        "!python --version"
      ],
      "metadata": {
        "colab": {
          "base_uri": "https://localhost:8080/"
        },
        "id": "BILv3RQyv4A5",
        "outputId": "e2cd2b11-531e-4549-f74c-925807d6b1e8"
      },
      "execution_count": 15,
      "outputs": [
        {
          "output_type": "stream",
          "name": "stdout",
          "text": [
            "Python 3.10.12\n"
          ]
        }
      ]
    },
    {
      "cell_type": "code",
      "source": [
        "import numpy as np\n",
        "from google.colab import drive\n",
        "drive.mount('/content/drive')\n",
        "\n",
        "dataset_path = '/content/drive/MyDrive/data/'\n",
        "\n",
        "train_images = np.load(dataset_path + 'train_images.npy')\n",
        "train_labels = np.load(dataset_path + 'train_labels.npy')\n",
        "test_images = np.load(dataset_path + 'test_images.npy')\n",
        "test_labels = np.load(dataset_path + 'test_labels.npy')"
      ],
      "metadata": {
        "id": "gzN8cDH6rtI3",
        "colab": {
          "base_uri": "https://localhost:8080/"
        },
        "outputId": "f69fa2ef-7951-498a-adf1-011901a9f201"
      },
      "execution_count": 6,
      "outputs": [
        {
          "output_type": "stream",
          "name": "stdout",
          "text": [
            "Drive already mounted at /content/drive; to attempt to forcibly remount, call drive.mount(\"/content/drive\", force_remount=True).\n"
          ]
        }
      ]
    },
    {
      "cell_type": "code",
      "source": [
        "print(\"Train Images Shape:\", train_images.shape)\n",
        "print(\"Train Labels Shape:\", train_labels.shape)\n",
        "print(\"Test Images Shape:\", test_images.shape)\n",
        "print(\"Test Labels Shape:\", test_labels.shape)\n",
        "\n",
        "print(\"\\nTrain Images Data Type:\", train_images.dtype)\n",
        "print(\"Train Labels Data Type:\", train_labels.dtype)\n",
        "print(\"Test Images Data Type:\", test_images.dtype)\n",
        "print(\"Test Labels Data Type:\", test_labels.dtype)\n",
        "\n",
        "print(\"\\nTrain Images Min Value:\", np.min(train_images))\n",
        "print(\"Train Images Max Value:\", np.max(train_images))\n",
        "print(\"Test Images Min Value:\", np.min(test_images))\n",
        "print(\"Test Images Max Value:\", np.max(test_images))\n",
        "\n",
        "print(\"\\nUnique Train Labels:\", np.unique(train_labels))\n",
        "print(\"Unique Test Labels:\", np.unique(test_labels))"
      ],
      "metadata": {
        "colab": {
          "base_uri": "https://localhost:8080/"
        },
        "id": "VHl5kTE_LW6Y",
        "outputId": "95dc6fce-68fb-44b3-f7ca-a7414794b40e"
      },
      "execution_count": 7,
      "outputs": [
        {
          "output_type": "stream",
          "name": "stdout",
          "text": [
            "Train Images Shape: (28754, 48, 48)\n",
            "Train Labels Shape: (28754, 7)\n",
            "Test Images Shape: (7178, 48, 48)\n",
            "Test Labels Shape: (7178, 7)\n",
            "\n",
            "Train Images Data Type: float64\n",
            "Train Labels Data Type: float32\n",
            "Test Images Data Type: float64\n",
            "Test Labels Data Type: float32\n",
            "\n",
            "Train Images Min Value: 0.0\n",
            "Train Images Max Value: 1.0\n",
            "Test Images Min Value: 0.0\n",
            "Test Images Max Value: 1.0\n",
            "\n",
            "Unique Train Labels: [0. 1.]\n",
            "Unique Test Labels: [0. 1.]\n"
          ]
        }
      ]
    },
    {
      "cell_type": "code",
      "source": [
        "import tensorflow as tf\n",
        "from tensorflow.keras.models import Sequential\n",
        "from tensorflow.keras.layers import Conv2D, MaxPooling2D, Flatten, Dense, Dropout, BatchNormalization, GlobalAveragePooling2D\n",
        "from tensorflow.keras.preprocessing.image import ImageDataGenerator\n",
        "\n",
        "\n",
        "input_shape = (48, 48, 1)\n",
        "\n",
        "model = Sequential([\n",
        "    Conv2D(32, (3, 3), activation='relu', padding='same', input_shape=input_shape),\n",
        "    BatchNormalization(),\n",
        "    Conv2D(32, (3, 3), activation='relu', padding='same'),\n",
        "    BatchNormalization(),\n",
        "    MaxPooling2D(2, 2),\n",
        "\n",
        "    Conv2D(64, (3, 3), activation='relu', padding='same'),\n",
        "    BatchNormalization(),\n",
        "    Conv2D(64, (3, 3), activation='relu', padding='same'),\n",
        "    BatchNormalization(),\n",
        "    MaxPooling2D(2, 2),\n",
        "\n",
        "    Conv2D(128, (3, 3), activation='relu', padding='same'),\n",
        "    BatchNormalization(),\n",
        "    Conv2D(128, (3, 3), activation='relu', padding='same'),\n",
        "    BatchNormalization(),\n",
        "    MaxPooling2D(2, 2),\n",
        "\n",
        "    Conv2D(256, (3, 3), activation='relu', padding='same'),\n",
        "    BatchNormalization(),\n",
        "    Conv2D(256, (3, 3), activation='relu', padding='same'),\n",
        "    BatchNormalization(),\n",
        "    GlobalAveragePooling2D(),\n",
        "\n",
        "    Dense(256, activation='relu'),\n",
        "    BatchNormalization(),\n",
        "    Dropout(0.3),\n",
        "    Dense(7, activation='softmax')\n",
        "])\n",
        "\n",
        "model.compile(optimizer='adam', loss='categorical_crossentropy', metrics=['accuracy'])\n",
        "\n",
        "model.summary()\n",
        "\n",
        "epochs = 40\n",
        "batch_size = 32\n",
        "\n",
        "#Data augmentation parameters\n",
        "datagen = ImageDataGenerator(\n",
        "    rotation_range=20,\n",
        "    width_shift_range=0.2,\n",
        "    height_shift_range=0.2,\n",
        "    shear_range=0.2,\n",
        "    zoom_range=0.2,\n",
        "    horizontal_flip=True,\n",
        "    fill_mode='nearest'\n",
        ")\n",
        "\n",
        "train_images = train_images.reshape((-1, 48, 48, 1))\n",
        "test_images = test_images.reshape((-1, 48, 48, 1))\n",
        "\n",
        "train_generator = datagen.flow(\n",
        "    train_images,\n",
        "    train_labels,\n",
        "    batch_size=batch_size\n",
        ")\n",
        "\n",
        "model.fit(\n",
        "    train_generator,\n",
        "    steps_per_epoch=len(train_images) // batch_size,\n",
        "    epochs=epochs,\n",
        "    validation_data=(test_images, test_labels)\n",
        ")\n",
        "\n",
        "loss, accuracy = model.evaluate(test_images, test_labels)\n",
        "print(f\"Test Loss: {loss:.4f}\")\n",
        "print(f\"Test Accuracy: {accuracy:.4f}\")"
      ],
      "metadata": {
        "colab": {
          "base_uri": "https://localhost:8080/"
        },
        "id": "VZzHS4ZsVKTA",
        "outputId": "7c8cbf3d-187f-43ca-c60c-a6f5bf0da63e"
      },
      "execution_count": 8,
      "outputs": [
        {
          "output_type": "stream",
          "name": "stdout",
          "text": [
            "Model: \"sequential_1\"\n",
            "_________________________________________________________________\n",
            " Layer (type)                Output Shape              Param #   \n",
            "=================================================================\n",
            " conv2d_16 (Conv2D)          (None, 48, 48, 32)        320       \n",
            "                                                                 \n",
            " batch_normalization_17 (Ba  (None, 48, 48, 32)        128       \n",
            " tchNormalization)                                               \n",
            "                                                                 \n",
            " conv2d_17 (Conv2D)          (None, 48, 48, 32)        9248      \n",
            "                                                                 \n",
            " batch_normalization_18 (Ba  (None, 48, 48, 32)        128       \n",
            " tchNormalization)                                               \n",
            "                                                                 \n",
            " max_pooling2d_6 (MaxPoolin  (None, 24, 24, 32)        0         \n",
            " g2D)                                                            \n",
            "                                                                 \n",
            " conv2d_18 (Conv2D)          (None, 24, 24, 64)        18496     \n",
            "                                                                 \n",
            " batch_normalization_19 (Ba  (None, 24, 24, 64)        256       \n",
            " tchNormalization)                                               \n",
            "                                                                 \n",
            " conv2d_19 (Conv2D)          (None, 24, 24, 64)        36928     \n",
            "                                                                 \n",
            " batch_normalization_20 (Ba  (None, 24, 24, 64)        256       \n",
            " tchNormalization)                                               \n",
            "                                                                 \n",
            " max_pooling2d_7 (MaxPoolin  (None, 12, 12, 64)        0         \n",
            " g2D)                                                            \n",
            "                                                                 \n",
            " conv2d_20 (Conv2D)          (None, 12, 12, 128)       73856     \n",
            "                                                                 \n",
            " batch_normalization_21 (Ba  (None, 12, 12, 128)       512       \n",
            " tchNormalization)                                               \n",
            "                                                                 \n",
            " conv2d_21 (Conv2D)          (None, 12, 12, 128)       147584    \n",
            "                                                                 \n",
            " batch_normalization_22 (Ba  (None, 12, 12, 128)       512       \n",
            " tchNormalization)                                               \n",
            "                                                                 \n",
            " max_pooling2d_8 (MaxPoolin  (None, 6, 6, 128)         0         \n",
            " g2D)                                                            \n",
            "                                                                 \n",
            " conv2d_22 (Conv2D)          (None, 6, 6, 256)         295168    \n",
            "                                                                 \n",
            " batch_normalization_23 (Ba  (None, 6, 6, 256)         1024      \n",
            " tchNormalization)                                               \n",
            "                                                                 \n",
            " conv2d_23 (Conv2D)          (None, 6, 6, 256)         590080    \n",
            "                                                                 \n",
            " batch_normalization_24 (Ba  (None, 6, 6, 256)         1024      \n",
            " tchNormalization)                                               \n",
            "                                                                 \n",
            " global_average_pooling2d_1  (None, 256)               0         \n",
            "  (GlobalAveragePooling2D)                                       \n",
            "                                                                 \n",
            " dense_2 (Dense)             (None, 256)               65792     \n",
            "                                                                 \n",
            " batch_normalization_25 (Ba  (None, 256)               1024      \n",
            " tchNormalization)                                               \n",
            "                                                                 \n",
            " dropout_1 (Dropout)         (None, 256)               0         \n",
            "                                                                 \n",
            " dense_3 (Dense)             (None, 7)                 1799      \n",
            "                                                                 \n",
            "=================================================================\n",
            "Total params: 1244135 (4.75 MB)\n",
            "Trainable params: 1241703 (4.74 MB)\n",
            "Non-trainable params: 2432 (9.50 KB)\n",
            "_________________________________________________________________\n",
            "Epoch 1/40\n",
            "898/898 [==============================] - 28s 25ms/step - loss: 1.9944 - accuracy: 0.2136 - val_loss: 1.7907 - val_accuracy: 0.2637\n",
            "Epoch 2/40\n",
            "898/898 [==============================] - 20s 23ms/step - loss: 1.7305 - accuracy: 0.3052 - val_loss: 1.5313 - val_accuracy: 0.4239\n",
            "Epoch 3/40\n",
            "898/898 [==============================] - 22s 24ms/step - loss: 1.4662 - accuracy: 0.4333 - val_loss: 1.3543 - val_accuracy: 0.4872\n",
            "Epoch 4/40\n",
            "898/898 [==============================] - 20s 23ms/step - loss: 1.3179 - accuracy: 0.4970 - val_loss: 1.2128 - val_accuracy: 0.5361\n",
            "Epoch 5/40\n",
            "898/898 [==============================] - 23s 25ms/step - loss: 1.2346 - accuracy: 0.5290 - val_loss: 1.1664 - val_accuracy: 0.5584\n",
            "Epoch 6/40\n",
            "898/898 [==============================] - 23s 25ms/step - loss: 1.1903 - accuracy: 0.5480 - val_loss: 1.1337 - val_accuracy: 0.5711\n",
            "Epoch 7/40\n",
            "898/898 [==============================] - 21s 23ms/step - loss: 1.1495 - accuracy: 0.5643 - val_loss: 1.1871 - val_accuracy: 0.5578\n",
            "Epoch 8/40\n",
            "898/898 [==============================] - 23s 26ms/step - loss: 1.1242 - accuracy: 0.5767 - val_loss: 1.1473 - val_accuracy: 0.5697\n",
            "Epoch 9/40\n",
            "898/898 [==============================] - 21s 24ms/step - loss: 1.0985 - accuracy: 0.5869 - val_loss: 1.1075 - val_accuracy: 0.5901\n",
            "Epoch 10/40\n",
            "898/898 [==============================] - 23s 26ms/step - loss: 1.0775 - accuracy: 0.5965 - val_loss: 1.1390 - val_accuracy: 0.5759\n",
            "Epoch 11/40\n",
            "898/898 [==============================] - 23s 26ms/step - loss: 1.0565 - accuracy: 0.6012 - val_loss: 1.0788 - val_accuracy: 0.6045\n",
            "Epoch 12/40\n",
            "898/898 [==============================] - 21s 23ms/step - loss: 1.0447 - accuracy: 0.6082 - val_loss: 1.0192 - val_accuracy: 0.6154\n",
            "Epoch 13/40\n",
            "898/898 [==============================] - 22s 25ms/step - loss: 1.0240 - accuracy: 0.6150 - val_loss: 0.9946 - val_accuracy: 0.6282\n",
            "Epoch 14/40\n",
            "898/898 [==============================] - 23s 26ms/step - loss: 1.0138 - accuracy: 0.6222 - val_loss: 1.0555 - val_accuracy: 0.6060\n",
            "Epoch 15/40\n",
            "898/898 [==============================] - 21s 23ms/step - loss: 1.0005 - accuracy: 0.6228 - val_loss: 0.9731 - val_accuracy: 0.6402\n",
            "Epoch 16/40\n",
            "898/898 [==============================] - 22s 25ms/step - loss: 0.9860 - accuracy: 0.6301 - val_loss: 1.0294 - val_accuracy: 0.6225\n",
            "Epoch 17/40\n",
            "898/898 [==============================] - 23s 25ms/step - loss: 0.9781 - accuracy: 0.6356 - val_loss: 1.0100 - val_accuracy: 0.6234\n",
            "Epoch 18/40\n",
            "898/898 [==============================] - 21s 24ms/step - loss: 0.9622 - accuracy: 0.6412 - val_loss: 0.9830 - val_accuracy: 0.6310\n",
            "Epoch 19/40\n",
            "898/898 [==============================] - 23s 26ms/step - loss: 0.9452 - accuracy: 0.6486 - val_loss: 0.9648 - val_accuracy: 0.6460\n",
            "Epoch 20/40\n",
            "898/898 [==============================] - 23s 26ms/step - loss: 0.9429 - accuracy: 0.6478 - val_loss: 1.0647 - val_accuracy: 0.6130\n",
            "Epoch 21/40\n",
            "898/898 [==============================] - 25s 28ms/step - loss: 0.9362 - accuracy: 0.6493 - val_loss: 0.9633 - val_accuracy: 0.6523\n",
            "Epoch 22/40\n",
            "898/898 [==============================] - 21s 23ms/step - loss: 0.9202 - accuracy: 0.6562 - val_loss: 0.9866 - val_accuracy: 0.6435\n",
            "Epoch 23/40\n",
            "898/898 [==============================] - 22s 25ms/step - loss: 0.9141 - accuracy: 0.6600 - val_loss: 0.9618 - val_accuracy: 0.6460\n",
            "Epoch 24/40\n",
            "898/898 [==============================] - 22s 24ms/step - loss: 0.9066 - accuracy: 0.6592 - val_loss: 0.9296 - val_accuracy: 0.6569\n",
            "Epoch 25/40\n",
            "898/898 [==============================] - 22s 24ms/step - loss: 0.8962 - accuracy: 0.6659 - val_loss: 0.9771 - val_accuracy: 0.6446\n",
            "Epoch 26/40\n",
            "898/898 [==============================] - 23s 26ms/step - loss: 0.8852 - accuracy: 0.6716 - val_loss: 0.9318 - val_accuracy: 0.6556\n",
            "Epoch 27/40\n",
            "898/898 [==============================] - 23s 26ms/step - loss: 0.8762 - accuracy: 0.6709 - val_loss: 0.9880 - val_accuracy: 0.6335\n",
            "Epoch 28/40\n",
            "898/898 [==============================] - 22s 24ms/step - loss: 0.8675 - accuracy: 0.6786 - val_loss: 0.9464 - val_accuracy: 0.6544\n",
            "Epoch 29/40\n",
            "898/898 [==============================] - 21s 24ms/step - loss: 0.8659 - accuracy: 0.6760 - val_loss: 0.9973 - val_accuracy: 0.6421\n",
            "Epoch 30/40\n",
            "898/898 [==============================] - 21s 24ms/step - loss: 0.8577 - accuracy: 0.6798 - val_loss: 0.9453 - val_accuracy: 0.6556\n",
            "Epoch 31/40\n",
            "898/898 [==============================] - 23s 25ms/step - loss: 0.8504 - accuracy: 0.6824 - val_loss: 0.9606 - val_accuracy: 0.6473\n",
            "Epoch 32/40\n",
            "898/898 [==============================] - 21s 23ms/step - loss: 0.8413 - accuracy: 0.6872 - val_loss: 0.9369 - val_accuracy: 0.6580\n",
            "Epoch 33/40\n",
            "898/898 [==============================] - 21s 24ms/step - loss: 0.8381 - accuracy: 0.6870 - val_loss: 0.9771 - val_accuracy: 0.6468\n",
            "Epoch 34/40\n",
            "898/898 [==============================] - 23s 26ms/step - loss: 0.8291 - accuracy: 0.6886 - val_loss: 0.9119 - val_accuracy: 0.6716\n",
            "Epoch 35/40\n",
            "898/898 [==============================] - 22s 24ms/step - loss: 0.8183 - accuracy: 0.6972 - val_loss: 0.9533 - val_accuracy: 0.6481\n",
            "Epoch 36/40\n",
            "898/898 [==============================] - 25s 28ms/step - loss: 0.8069 - accuracy: 0.7005 - val_loss: 0.9672 - val_accuracy: 0.6619\n",
            "Epoch 37/40\n",
            "898/898 [==============================] - 23s 26ms/step - loss: 0.8027 - accuracy: 0.7024 - val_loss: 0.9637 - val_accuracy: 0.6551\n",
            "Epoch 38/40\n",
            "898/898 [==============================] - 21s 23ms/step - loss: 0.8017 - accuracy: 0.6998 - val_loss: 0.9350 - val_accuracy: 0.6606\n",
            "Epoch 39/40\n",
            "898/898 [==============================] - 22s 25ms/step - loss: 0.8003 - accuracy: 0.7018 - val_loss: 0.9362 - val_accuracy: 0.6721\n",
            "Epoch 40/40\n",
            "898/898 [==============================] - 23s 26ms/step - loss: 0.7965 - accuracy: 0.7020 - val_loss: 0.9140 - val_accuracy: 0.6679\n",
            "225/225 [==============================] - 1s 5ms/step - loss: 0.9140 - accuracy: 0.6679\n",
            "Test Loss: 0.9140\n",
            "Test Accuracy: 0.6679\n"
          ]
        }
      ]
    },
    {
      "cell_type": "code",
      "source": [
        "model.save('emotion_detection_model.h5')\n",
        "\n",
        "converter = tf.lite.TFLiteConverter.from_keras_model(model)\n",
        "tflite_model = converter.convert()\n",
        "\n",
        "with open('emotion_detection_model.tflite', 'wb') as f:\n",
        "    f.write(tflite_model)\n",
        "\n",
        "from google.colab import files\n",
        "\n",
        "files.download('emotion_detection_model.h5')\n",
        "files.download('emotion_detection_model.tflite')"
      ],
      "metadata": {
        "colab": {
          "base_uri": "https://localhost:8080/",
          "height": 74
        },
        "id": "diodlxGoTMD0",
        "outputId": "102947a6-6e83-40ef-fb75-f6c777376df9"
      },
      "execution_count": 9,
      "outputs": [
        {
          "output_type": "stream",
          "name": "stderr",
          "text": [
            "/usr/local/lib/python3.10/dist-packages/keras/src/engine/training.py:3103: UserWarning: You are saving your model as an HDF5 file via `model.save()`. This file format is considered legacy. We recommend using instead the native Keras format, e.g. `model.save('my_model.keras')`.\n",
            "  saving_api.save_model(\n"
          ]
        },
        {
          "output_type": "display_data",
          "data": {
            "text/plain": [
              "<IPython.core.display.Javascript object>"
            ],
            "application/javascript": [
              "\n",
              "    async function download(id, filename, size) {\n",
              "      if (!google.colab.kernel.accessAllowed) {\n",
              "        return;\n",
              "      }\n",
              "      const div = document.createElement('div');\n",
              "      const label = document.createElement('label');\n",
              "      label.textContent = `Downloading \"${filename}\": `;\n",
              "      div.appendChild(label);\n",
              "      const progress = document.createElement('progress');\n",
              "      progress.max = size;\n",
              "      div.appendChild(progress);\n",
              "      document.body.appendChild(div);\n",
              "\n",
              "      const buffers = [];\n",
              "      let downloaded = 0;\n",
              "\n",
              "      const channel = await google.colab.kernel.comms.open(id);\n",
              "      // Send a message to notify the kernel that we're ready.\n",
              "      channel.send({})\n",
              "\n",
              "      for await (const message of channel.messages) {\n",
              "        // Send a message to notify the kernel that we're ready.\n",
              "        channel.send({})\n",
              "        if (message.buffers) {\n",
              "          for (const buffer of message.buffers) {\n",
              "            buffers.push(buffer);\n",
              "            downloaded += buffer.byteLength;\n",
              "            progress.value = downloaded;\n",
              "          }\n",
              "        }\n",
              "      }\n",
              "      const blob = new Blob(buffers, {type: 'application/binary'});\n",
              "      const a = document.createElement('a');\n",
              "      a.href = window.URL.createObjectURL(blob);\n",
              "      a.download = filename;\n",
              "      div.appendChild(a);\n",
              "      a.click();\n",
              "      div.remove();\n",
              "    }\n",
              "  "
            ]
          },
          "metadata": {}
        },
        {
          "output_type": "display_data",
          "data": {
            "text/plain": [
              "<IPython.core.display.Javascript object>"
            ],
            "application/javascript": [
              "download(\"download_33bcb8ec-91bc-40c1-ae24-1535ea83ed6d\", \"emotion_detection_model.h5\", 15077768)"
            ]
          },
          "metadata": {}
        },
        {
          "output_type": "display_data",
          "data": {
            "text/plain": [
              "<IPython.core.display.Javascript object>"
            ],
            "application/javascript": [
              "\n",
              "    async function download(id, filename, size) {\n",
              "      if (!google.colab.kernel.accessAllowed) {\n",
              "        return;\n",
              "      }\n",
              "      const div = document.createElement('div');\n",
              "      const label = document.createElement('label');\n",
              "      label.textContent = `Downloading \"${filename}\": `;\n",
              "      div.appendChild(label);\n",
              "      const progress = document.createElement('progress');\n",
              "      progress.max = size;\n",
              "      div.appendChild(progress);\n",
              "      document.body.appendChild(div);\n",
              "\n",
              "      const buffers = [];\n",
              "      let downloaded = 0;\n",
              "\n",
              "      const channel = await google.colab.kernel.comms.open(id);\n",
              "      // Send a message to notify the kernel that we're ready.\n",
              "      channel.send({})\n",
              "\n",
              "      for await (const message of channel.messages) {\n",
              "        // Send a message to notify the kernel that we're ready.\n",
              "        channel.send({})\n",
              "        if (message.buffers) {\n",
              "          for (const buffer of message.buffers) {\n",
              "            buffers.push(buffer);\n",
              "            downloaded += buffer.byteLength;\n",
              "            progress.value = downloaded;\n",
              "          }\n",
              "        }\n",
              "      }\n",
              "      const blob = new Blob(buffers, {type: 'application/binary'});\n",
              "      const a = document.createElement('a');\n",
              "      a.href = window.URL.createObjectURL(blob);\n",
              "      a.download = filename;\n",
              "      div.appendChild(a);\n",
              "      a.click();\n",
              "      div.remove();\n",
              "    }\n",
              "  "
            ]
          },
          "metadata": {}
        },
        {
          "output_type": "display_data",
          "data": {
            "text/plain": [
              "<IPython.core.display.Javascript object>"
            ],
            "application/javascript": [
              "download(\"download_4fc3599d-14b3-4523-9d2d-def657cebb45\", \"emotion_detection_model.tflite\", 4976904)"
            ]
          },
          "metadata": {}
        }
      ]
    }
  ]
}